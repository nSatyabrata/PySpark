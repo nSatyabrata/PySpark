{
 "cells": [
  {
   "cell_type": "code",
   "execution_count": 1,
   "id": "e343388c",
   "metadata": {},
   "outputs": [
    {
     "name": "stdout",
     "output_type": "stream",
     "text": [
      "22/11/05 23:23:55 WARN Utils: Your hostname, pc resolves to a loopback address: 127.0.1.1; using 192.168.170.52 instead (on interface wlp3s0)\n",
      "22/11/05 23:23:55 WARN Utils: Set SPARK_LOCAL_IP if you need to bind to another address\n"
     ]
    },
    {
     "name": "stderr",
     "output_type": "stream",
     "text": [
      "Setting default log level to \"WARN\".\n",
      "To adjust logging level use sc.setLogLevel(newLevel). For SparkR, use setLogLevel(newLevel).\n"
     ]
    },
    {
     "name": "stdout",
     "output_type": "stream",
     "text": [
      "22/11/05 23:23:56 WARN NativeCodeLoader: Unable to load native-hadoop library for your platform... using builtin-java classes where applicable\n",
      "<SparkContext master=local[*] appName=KDDCup_PySpark>\n"
     ]
    }
   ],
   "source": [
    "from pyspark import SparkContext, SparkConf\n",
    "\n",
    "conf = SparkConf().setAppName(\"KDDCup_PySpark\").setMaster(\"local[*]\")\n",
    "sc = SparkContext(conf=conf)\n",
    "print(sc)"
   ]
  },
  {
   "cell_type": "code",
   "execution_count": 2,
   "id": "a1e1c53a",
   "metadata": {},
   "outputs": [],
   "source": [
    "rdd = sc.textFile(\"./data/kddcup.data.gz\")"
   ]
  },
  {
   "cell_type": "code",
   "execution_count": 3,
   "id": "d767e668",
   "metadata": {},
   "outputs": [
    {
     "name": "stdout",
     "output_type": "stream",
     "text": [
      "8\n",
      "10\n"
     ]
    }
   ],
   "source": [
    "rdd.getNumPartitions()\n",
    "\n",
    "rdd = rdd.repartition(10)\n",
    "print(sc.defaultParallelism)\n",
    "print(rdd.getNumPartitions())\n",
    "\n",
    "#rdd.persist()"
   ]
  },
  {
   "cell_type": "code",
   "execution_count": 4,
   "id": "8c8669ca",
   "metadata": {},
   "outputs": [
    {
     "name": "stderr",
     "output_type": "stream",
     "text": [
      "                                                                                \r"
     ]
    },
    {
     "data": {
      "text/plain": [
       "['0,icmp,ecr_i,SF,1032,0,0,0,0,0,0,0,0,0,0,0,0,0,0,0,0,0,511,511,0.00,0.00,0.00,0.00,1.00,0.00,0.00,255,255,1.00,0.00,1.00,0.00,0.00,0.00,0.00,0.00,smurf.',\n",
       " '0,icmp,ecr_i,SF,1032,0,0,0,0,0,0,0,0,0,0,0,0,0,0,0,0,0,511,511,0.00,0.00,0.00,0.00,1.00,0.00,0.00,255,255,1.00,0.00,1.00,0.00,0.00,0.00,0.00,0.00,smurf.',\n",
       " '0,tcp,private,S0,0,0,0,0,0,0,0,0,0,0,0,0,0,0,0,0,0,0,258,16,1.00,1.00,0.00,0.00,0.06,0.06,0.00,255,16,0.06,0.07,0.00,0.00,1.00,1.00,0.00,0.00,neptune.',\n",
       " '0,tcp,private,S0,0,0,0,0,0,0,0,0,0,0,0,0,0,0,0,0,0,0,112,9,1.00,1.00,0.00,0.00,0.08,0.06,0.00,255,9,0.04,0.06,0.00,0.00,1.00,1.00,0.00,0.00,neptune.',\n",
       " '0,icmp,ecr_i,SF,1032,0,0,0,0,0,0,0,0,0,0,0,0,0,0,0,0,0,511,511,0.00,0.00,0.00,0.00,1.00,0.00,0.00,255,255,1.00,0.00,1.00,0.00,0.00,0.00,0.00,0.00,smurf.',\n",
       " '0,tcp,private,S0,0,0,0,0,0,0,0,0,0,0,0,0,0,0,0,0,0,0,202,2,1.00,1.00,0.00,0.00,0.01,0.05,0.00,255,2,0.01,0.06,0.00,0.00,1.00,1.00,0.00,0.00,neptune.',\n",
       " '0,tcp,private,S0,0,0,0,0,0,0,0,0,0,0,0,0,0,0,0,0,0,0,246,20,1.00,1.00,0.00,0.00,0.08,0.07,0.00,255,20,0.08,0.08,0.00,0.00,1.00,1.00,0.00,0.00,neptune.',\n",
       " '0,icmp,ecr_i,SF,520,0,0,0,0,0,0,0,0,0,0,0,0,0,0,0,0,0,483,483,0.00,0.00,0.00,0.00,1.00,0.00,0.00,255,255,1.00,0.00,1.00,0.00,0.00,0.00,0.00,0.00,smurf.',\n",
       " '0,tcp,http,SF,282,2205,0,0,0,0,0,1,0,0,0,0,0,0,0,0,0,0,4,4,0.00,0.00,0.00,0.00,1.00,0.00,0.00,77,255,1.00,0.00,0.01,0.04,0.00,0.00,0.00,0.00,normal.',\n",
       " '0,tcp,smtp,S0,0,0,0,0,0,0,0,0,0,0,0,0,0,0,0,0,0,0,199,1,1.00,1.00,0.00,0.00,0.01,0.07,0.00,255,9,0.04,0.07,0.00,0.00,1.00,1.00,0.00,0.00,neptune.']"
      ]
     },
     "execution_count": 4,
     "metadata": {},
     "output_type": "execute_result"
    }
   ],
   "source": [
    "# Get ten record randomly\n",
    "rdd.takeSample(False, 10, 42)"
   ]
  },
  {
   "cell_type": "code",
   "execution_count": 5,
   "id": "0f716b15",
   "metadata": {},
   "outputs": [
    {
     "name": "stderr",
     "output_type": "stream",
     "text": [
      "[Stage 5:==============================================>           (8 + 2) / 10]\r"
     ]
    },
    {
     "name": "stdout",
     "output_type": "stream",
     "text": [
      "4898431\n"
     ]
    },
    {
     "name": "stderr",
     "output_type": "stream",
     "text": [
      "\r",
      "                                                                                \r"
     ]
    }
   ],
   "source": [
    "# count elements\n",
    "total_count = rdd.count()\n",
    "print(total_count)"
   ]
  },
  {
   "cell_type": "code",
   "execution_count": 6,
   "id": "c09cf31a",
   "metadata": {},
   "outputs": [
    {
     "name": "stderr",
     "output_type": "stream",
     "text": [
      "[Stage 7:==============================================>           (8 + 2) / 10]\r"
     ]
    },
    {
     "name": "stdout",
     "output_type": "stream",
     "text": [
      "Ration of normal connection is 19.86 %\n"
     ]
    },
    {
     "name": "stderr",
     "output_type": "stream",
     "text": [
      "\r",
      "                                                                                \r"
     ]
    }
   ],
   "source": [
    "# calculate the ratio of normal connections\n",
    "normal_count = rdd.filter(lambda x: x.split(\",\")[-1] == \"normal.\").count()\n",
    "print(f\"Ration of normal connection is {round(normal_count/total_count,4)*100} %\")"
   ]
  },
  {
   "cell_type": "code",
   "execution_count": 7,
   "id": "a236556c",
   "metadata": {},
   "outputs": [
    {
     "name": "stderr",
     "output_type": "stream",
     "text": [
      "                                                                                \r"
     ]
    },
    {
     "data": {
      "text/plain": [
       "['neptune.',\n",
       " 'loadmodule.',\n",
       " 'warezclient.',\n",
       " 'pod.',\n",
       " 'smurf.',\n",
       " 'nmap.',\n",
       " 'spy.',\n",
       " 'back.',\n",
       " 'teardrop.',\n",
       " 'ipsweep.',\n",
       " 'multihop.',\n",
       " 'phf.',\n",
       " 'ftp_write.',\n",
       " 'guess_passwd.',\n",
       " 'normal.',\n",
       " 'land.',\n",
       " 'satan.',\n",
       " 'imap.',\n",
       " 'portsweep.',\n",
       " 'warezmaster.',\n",
       " 'rootkit.',\n",
       " 'buffer_overflow.',\n",
       " 'perl.']"
      ]
     },
     "execution_count": 7,
     "metadata": {},
     "output_type": "execute_result"
    }
   ],
   "source": [
    "# Get the list of labels\n",
    "label_rdd = rdd.map(lambda x: x.split(\",\")[-1]).distinct()\n",
    "label_rdd.collect()"
   ]
  },
  {
   "cell_type": "code",
   "execution_count": 8,
   "id": "9521c74f",
   "metadata": {},
   "outputs": [
    {
     "name": "stderr",
     "output_type": "stream",
     "text": [
      "                                                                                \r"
     ]
    },
    {
     "data": {
      "text/plain": [
       "[('neptune.', 1072017),\n",
       " ('loadmodule.', 9),\n",
       " ('warezclient.', 1020),\n",
       " ('pod.', 264),\n",
       " ('smurf.', 2807886),\n",
       " ('nmap.', 2316),\n",
       " ('spy.', 2),\n",
       " ('back.', 2203),\n",
       " ('teardrop.', 979),\n",
       " ('ipsweep.', 12481),\n",
       " ('multihop.', 7),\n",
       " ('phf.', 4),\n",
       " ('ftp_write.', 8),\n",
       " ('guess_passwd.', 53),\n",
       " ('normal.', 972781),\n",
       " ('land.', 21),\n",
       " ('satan.', 15892),\n",
       " ('imap.', 12),\n",
       " ('portsweep.', 10413),\n",
       " ('warezmaster.', 20),\n",
       " ('rootkit.', 10),\n",
       " ('buffer_overflow.', 30),\n",
       " ('perl.', 3)]"
      ]
     },
     "execution_count": 8,
     "metadata": {},
     "output_type": "execute_result"
    }
   ],
   "source": [
    "# count the number of connection for each label\n",
    "rdd.map(lambda x: (x.split(\",\")[-1],1)).reduceByKey(lambda x,y: x+y).collect()"
   ]
  },
  {
   "cell_type": "code",
   "execution_count": 9,
   "id": "fa7d46b7",
   "metadata": {},
   "outputs": [
    {
     "name": "stderr",
     "output_type": "stream",
     "text": [
      "                                                                                \r"
     ]
    },
    {
     "data": {
      "text/plain": [
       "['tcp']"
      ]
     },
     "execution_count": 9,
     "metadata": {},
     "output_type": "execute_result"
    }
   ],
   "source": [
    "# Get the connection type with successful root_shell connections to servers,\n",
    "# where the number of data bytes from source(src_bytes) is 500 times more than from server (dst_types)\n",
    "\n",
    "splited_rdd = rdd.map(lambda x: x.split(\",\"))\n",
    "\n",
    "splited_rdd.filter(lambda x: x[13] == \"1\") \\\n",
    "            .map(lambda x: (x[1], x[4], x[5])) \\\n",
    "            .filter(lambda x: int(x[1]) < 500 * int(x[2])) \\\n",
    "            .map(lambda x: x[0]).distinct().collect()"
   ]
  },
  {
   "cell_type": "code",
   "execution_count": 10,
   "id": "c2eaf6ed",
   "metadata": {},
   "outputs": [
    {
     "name": "stderr",
     "output_type": "stream",
     "text": [
      "                                                                                \r"
     ]
    },
    {
     "data": {
      "text/plain": [
       "[('icmp', 12763), ('udp', 191348), ('tcp', 764894)]"
      ]
     },
     "execution_count": 10,
     "metadata": {},
     "output_type": "execute_result"
    }
   ],
   "source": [
    "# Get the list of Protocols that are normal and vulnerable to attacks, \n",
    "# where there is NOT guest login to the destination\n",
    "\n",
    "splited_rdd.filter(lambda x: x[-1] == 'normal.' and x[21] == \"0\") \\\n",
    "            .map(lambda x: (x[1],1)).reduceByKey(lambda x,y: x+y).collect()"
   ]
  },
  {
   "cell_type": "code",
   "execution_count": 11,
   "id": "17c8869d",
   "metadata": {},
   "outputs": [
    {
     "name": "stderr",
     "output_type": "stream",
     "text": [
      "[Stage 21:=============================================>           (8 + 2) / 10]\r"
     ]
    },
    {
     "name": "stdout",
     "output_type": "stream",
     "text": [
      "mean : [201.7520146]\n",
      "min : [0.]\n",
      "max : [255.]\n",
      "standard deviation : 90.72575504478223\n"
     ]
    },
    {
     "name": "stderr",
     "output_type": "stream",
     "text": [
      "\r",
      "                                                                                \r"
     ]
    }
   ],
   "source": [
    "# get a summary statstics for the sum of the tcp connections to the same \n",
    "# destination IP address(hint : protocol_type and dst_host_count features)\n",
    "from pyspark.mllib.stat import Statistics\n",
    "from math import sqrt\n",
    "\n",
    "summary = Statistics.colStats(splited_rdd.filter(lambda x: x[1] == \"tcp\").map(lambda x: [int(x[31])]))\n",
    "\n",
    "print(\"mean :\", summary.mean())\n",
    "print(\"min :\", summary.min())\n",
    "print(\"max :\", summary.max())\n",
    "print(\"standard deviation :\", sqrt(summary.variance()))"
   ]
  },
  {
   "cell_type": "code",
   "execution_count": 12,
   "id": "25b3d88b",
   "metadata": {},
   "outputs": [
    {
     "name": "stderr",
     "output_type": "stream",
     "text": [
      "                                                                                \r"
     ]
    },
    {
     "data": {
      "text/plain": [
       "[('eco_i', 12570), ('urp_i', 3), ('ecr_i', 2808204), ('tim_i', 5)]"
      ]
     },
     "execution_count": 12,
     "metadata": {},
     "output_type": "execute_result"
    }
   ],
   "source": [
    "# filter the number of icmp-based attacks for each service\n",
    "splited_rdd.filter(lambda x: x[1] == 'icmp' and x[-1] != 'normal.') \\\n",
    "            .map(lambda x: (x[2],1)) \\\n",
    "            .reduceByKey(lambda x,y: x+y) \\\n",
    "            .collect()"
   ]
  },
  {
   "cell_type": "code",
   "execution_count": null,
   "id": "3550053c",
   "metadata": {},
   "outputs": [],
   "source": []
  }
 ],
 "metadata": {
  "kernelspec": {
   "display_name": "Python 3 (ipykernel)",
   "language": "python",
   "name": "python3"
  },
  "language_info": {
   "codemirror_mode": {
    "name": "ipython",
    "version": 3
   },
   "file_extension": ".py",
   "mimetype": "text/x-python",
   "name": "python",
   "nbconvert_exporter": "python",
   "pygments_lexer": "ipython3",
   "version": "3.10.6"
  }
 },
 "nbformat": 4,
 "nbformat_minor": 5
}
