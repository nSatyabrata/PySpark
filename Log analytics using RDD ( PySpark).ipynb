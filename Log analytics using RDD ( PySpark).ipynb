{
 "cells": [
  {
   "cell_type": "markdown",
   "id": "c7541e55",
   "metadata": {},
   "source": [
    "Dataset website : https://ghtorrent.org/downloads.html"
   ]
  },
  {
   "cell_type": "code",
   "execution_count": 1,
   "id": "ad424ab6",
   "metadata": {},
   "outputs": [
    {
     "name": "stdout",
     "output_type": "stream",
     "text": [
      "22/11/06 16:54:44 WARN Utils: Your hostname, pc resolves to a loopback address: 127.0.1.1; using 192.168.170.52 instead (on interface wlp3s0)\n",
      "22/11/06 16:54:44 WARN Utils: Set SPARK_LOCAL_IP if you need to bind to another address\n"
     ]
    },
    {
     "name": "stderr",
     "output_type": "stream",
     "text": [
      "Setting default log level to \"WARN\".\n",
      "To adjust logging level use sc.setLogLevel(newLevel). For SparkR, use setLogLevel(newLevel).\n"
     ]
    },
    {
     "name": "stdout",
     "output_type": "stream",
     "text": [
      "22/11/06 16:54:45 WARN NativeCodeLoader: Unable to load native-hadoop library for your platform... using builtin-java classes where applicable\n",
      "22/11/06 16:54:46 WARN Utils: Service 'SparkUI' could not bind on port 4040. Attempting port 4041.\n",
      "<SparkContext master=local[*] appName=GHTorrent_log_analytics>\n"
     ]
    }
   ],
   "source": [
    "from pyspark import SparkConf, SparkContext\n",
    "\n",
    "conf = SparkConf().setAppName(\"GHTorrent_log_analytics\").setMaster(\"local[*]\")\n",
    "sc = SparkContext(conf=conf)\n",
    "print(sc)"
   ]
  },
  {
   "cell_type": "code",
   "execution_count": 2,
   "id": "437c6968",
   "metadata": {},
   "outputs": [],
   "source": [
    "# Read and load data to spark\n",
    "rdd = sc.textFile(\"./data/ghtorrent-logs.txt.gz\")"
   ]
  },
  {
   "cell_type": "code",
   "execution_count": 3,
   "id": "6b5f842d",
   "metadata": {},
   "outputs": [
    {
     "name": "stdout",
     "output_type": "stream",
     "text": [
      "Before repartition :  1\n",
      "After repartition :  8\n",
      "8\n"
     ]
    }
   ],
   "source": [
    "# Repartition data\n",
    "print(\"Before repartition : \", rdd.getNumPartitions())\n",
    "rdd = rdd.repartition(8) # shuffle all data\n",
    "print(\"After repartition : \", rdd.getNumPartitions())\n",
    "print(sc.defaultParallelism)"
   ]
  },
  {
   "cell_type": "code",
   "execution_count": 4,
   "id": "9af100ff",
   "metadata": {},
   "outputs": [
    {
     "name": "stderr",
     "output_type": "stream",
     "text": [
      "                                                                                \r"
     ]
    },
    {
     "name": "stdout",
     "output_type": "stream",
     "text": [
      "Number of records :  9669788\n"
     ]
    },
    {
     "name": "stderr",
     "output_type": "stream",
     "text": [
      "                                                                                \r"
     ]
    },
    {
     "data": {
      "text/plain": [
       "['DEBUG, 2017-03-23T12:01:39+00:00, ghtorrent-3 -- retriever.rb: Commit aselimkaya/AddingJsonFileToDB -> 57d70de5dc5c9346cfd2a567c449caab0b5fe31b exists',\n",
       " 'DEBUG, 2017-03-23T10:30:37+00:00, ghtorrent-8 -- ght_data_retrieval.rb: Processing event: PullRequestEvent-5531790485',\n",
       " 'WARN, 2017-03-23T11:03:54+00:00, ghtorrent-29 -- ghtorrent.rb: Found user MCFBDBIA with same email greenkeeper[bot]@users.noreply.github.com as non existing user greenkeeper[bot]. Assigning user greenkeeper[bot] to MCFBDBIA',\n",
       " 'INFO, 2017-03-23T10:34:58+00:00, ghtorrent-28 -- api_client.rb: Successful request. URL: https://api.github.com/repos/camphor-/hanreki/pulls/8/commits?per_page=100, Remaining: 298, Total: 96 ms',\n",
       " 'WARN, 2017-03-23T10:44:45+00:00, ghtorrent-43 -- ght_data_retrieval.rb: Error processing event. Type: CreateEvent, ID: 5531188992, Time: 51461 ms',\n",
       " 'DEBUG, 2017-03-23T11:11:11+00:00, ghtorrent-29 -- retriever.rb: Commit arungmca/deeplearning4j -> 73ce276ce08d5e4adde55d949105834cc3008217 exists',\n",
       " 'DEBUG, 2017-03-23T11:12:38+00:00, ghtorrent-40 -- ghtorrent.rb: User LFsWang exists',\n",
       " 'DEBUG, 2017-03-23T11:11:39+00:00, ghtorrent-26 -- ghtorrent.rb: Parent 444e51c87da92c0f8c7de7bc496e4a06419410a1 for commit 1129e46df4e6db40fcd901c806c1d93acede76c9 exists',\n",
       " 'DEBUG, 2017-03-23T10:03:05+00:00, ghtorrent-26 -- ghtorrent.rb: Repo reinmen/effective-hub exists',\n",
       " 'DEBUG, 2017-03-23T10:36:12+00:00, ghtorrent-11 -- ghtorrent.rb: User SummerSad exists',\n",
       " 'DEBUG, 2017-03-23T11:18:17+00:00, ghtorrent-14 -- ghtorrent.rb: User ManageIQ exists',\n",
       " 'DEBUG, 2017-03-24T13:51:13+00:00, ghtorrent-46 -- ght_data_retrieval.rb: Processing event: PullRequestEvent-5543577155',\n",
       " 'DEBUG, 2017-03-23T10:09:14+00:00, ghtorrent-43 -- ghtorrent.rb: Repo Nitrogen-CAF/android_system_extras exists',\n",
       " 'DEBUG, 2017-03-23T11:09:20+00:00, ghtorrent-30 -- ghtorrent.rb: Repo miguelcobain/ember-paper exists',\n",
       " 'DEBUG, 2017-03-23T12:01:23+00:00, ghtorrent-30 -- retriever.rb: Commit learn-co-students/say-hello-ruby-cb-gh-000 -> 824b2ad879464a5870a2ec9cd19a4536452b47f2 exists',\n",
       " 'DEBUG, 2017-03-23T11:04:26+00:00, ghtorrent-43 -- retriever.rb: Commit OpenTreeMap/otm-core -> 7933c3405da628d3982e540c372739e19813cd28 exists',\n",
       " 'DEBUG, 2017-03-23T12:16:37+00:00, ghtorrent-15 -- ghtorrent.rb: Transaction committed (10 ms)',\n",
       " 'INFO, 2017-03-23T09:04:29+00:00, ghtorrent-2 -- retriever.rb: Added repo_labels Shubhamvaishala/javascript-project -> question',\n",
       " 'INFO, 2017-03-23T10:31:58+00:00, ghtorrent-26 -- ghtorrent.rb: Added fork perpetio/Material-Controls-For-iOS of fpt-software/Material-Controls-For-iOS',\n",
       " 'DEBUG, 2017-03-23T11:12:51+00:00, ghtorrent-1 -- ghtorrent.rb: Repo lfairweather54/javascript-strings-lab-bootcamp-prep-000 exists']"
      ]
     },
     "execution_count": 4,
     "metadata": {},
     "output_type": "execute_result"
    }
   ],
   "source": [
    "# Count the number of records and get twenty records randomly\n",
    "print(\"Number of records : \", rdd.count())\n",
    "rdd.takeSample(False, 20, 1234)"
   ]
  },
  {
   "cell_type": "code",
   "execution_count": 5,
   "id": "98922eb2",
   "metadata": {},
   "outputs": [
    {
     "name": "stderr",
     "output_type": "stream",
     "text": [
      "                                                                                \r"
     ]
    },
    {
     "data": {
      "text/plain": [
       "19"
      ]
     },
     "execution_count": 5,
     "metadata": {},
     "output_type": "execute_result"
    }
   ],
   "source": [
    "# Get the number of lines with both Transaction and Repo information\n",
    "\n",
    "import re\n",
    "def collect_words(line):\n",
    "    return re.compile('\\w+').findall(line.lower())\n",
    "\n",
    "rdd_transaction = rdd.filter(lambda x: \"transaction\" in collect_words(x))\n",
    "rdd_repo = rdd.filter(lambda x: \"repo\" in collect_words(x))\n",
    "\n",
    "rdd_intersect = rdd_transaction.intersection(rdd_repo)\n",
    "rdd_intersect.count()"
   ]
  },
  {
   "cell_type": "code",
   "execution_count": 6,
   "id": "de0ef749",
   "metadata": {},
   "outputs": [
    {
     "name": "stderr",
     "output_type": "stream",
     "text": [
      "                                                                                \r"
     ]
    },
    {
     "data": {
      "text/plain": [
       "['DEBUG, 2017-03-23T09:13:17+00:00, ghtorrent-9 -- ghtorrent.rb: Repo xuminwlt/tcc-transaction exists',\n",
       " 'DEBUG, 2017-03-23T09:13:16+00:00, ghtorrent-9 -- ghtorrent.rb: Repo xuminwlt/tcc-transaction exists',\n",
       " 'DEBUG, 2017-03-23T09:13:17+00:00, ghtorrent-9 -- retriever.rb: Repo changmingxie -> tcc-transaction exists',\n",
       " 'DEBUG, 2017-03-23T09:27:31+00:00, ghtorrent-24 -- ghtorrent.rb: Repo changmingxie/tcc-transaction exists',\n",
       " 'DEBUG, 2017-03-23T13:03:33+00:00, ghtorrent-42 -- ghtorrent.rb: Repo jwpttcg66/redis-game-transaction exists',\n",
       " 'DEBUG, 2017-03-23T09:13:26+00:00, ghtorrent-9 -- ghtorrent.rb: Repo xuminwlt/tcc-transaction exists',\n",
       " 'DEBUG, 2017-03-23T11:09:37+00:00, ghtorrent-1 -- ghtorrent.rb: Repo pilkyoon/spring-transaction exists',\n",
       " 'DEBUG, 2017-03-23T09:13:16+00:00, ghtorrent-9 -- ghtorrent.rb: Repo changmingxie/tcc-transaction exists',\n",
       " 'INFO, 2017-03-23T09:13:16+00:00, ghtorrent-9 -- retriever.rb: Added repo xuminwlt -> tcc-transaction',\n",
       " 'DEBUG, 2017-03-23T09:13:17+00:00, ghtorrent-9 -- retriever.rb: Repo xuminwlt -> tcc-transaction exists',\n",
       " 'DEBUG, 2017-03-23T10:28:03+00:00, ghtorrent-33 -- ghtorrent.rb: Repo jwpttcg66/redis-game-transaction exists',\n",
       " 'DEBUG, 2017-03-23T09:13:17+00:00, ghtorrent-9 -- ghtorrent.rb: Repo changmingxie/tcc-transaction exists',\n",
       " 'INFO, 2017-03-23T09:13:16+00:00, ghtorrent-9 -- ghtorrent.rb: Repo xuminwlt/tcc-transaction is a fork of changmingxie/tcc-transaction',\n",
       " 'INFO, 2017-03-23T09:13:17+00:00, ghtorrent-9 -- ghtorrent.rb: Added repo xuminwlt/tcc-transaction',\n",
       " 'DEBUG, 2017-03-23T09:13:28+00:00, ghtorrent-9 -- ghtorrent.rb: Repo xuminwlt/tcc-transaction exists',\n",
       " 'DEBUG, 2017-03-23T09:13:27+00:00, ghtorrent-9 -- ghtorrent.rb: Repo xuminwlt/tcc-transaction exists',\n",
       " 'DEBUG, 2017-03-23T09:13:26+00:00, ghtorrent-9 -- ghtorrent.rb: Association of commit 5793a7df39a26b46082cafb59f287e2dc2cf9796 with repo xuminwlt/tcc-transaction exists',\n",
       " 'DEBUG, 2017-03-23T09:26:01+00:00, ghtorrent-11 -- ghtorrent.rb: Repo jwpttcg66/redis-game-transaction exists',\n",
       " 'INFO, 2017-03-23T09:13:17+00:00, ghtorrent-9 -- ghtorrent.rb: Repo xuminwlt/tcc-transaction was forked at changmingxie/tcc-transaction:5793a7df39a26b46082cafb59f287e2dc2cf9796']"
      ]
     },
     "execution_count": 6,
     "metadata": {},
     "output_type": "execute_result"
    }
   ],
   "source": [
    "rdd_intersect.collect()"
   ]
  },
  {
   "cell_type": "code",
   "execution_count": 7,
   "id": "862e3e1e",
   "metadata": {},
   "outputs": [
    {
     "name": "stderr",
     "output_type": "stream",
     "text": [
      "                                                                                \r"
     ]
    },
    {
     "data": {
      "text/plain": [
       "57"
      ]
     },
     "execution_count": 7,
     "metadata": {},
     "output_type": "execute_result"
    }
   ],
   "source": [
    "# Get the number of lines including we link for warn logging levels\n",
    "\n",
    "def get_urls(line):\n",
    "    regex = r\"http[s]?://(?:[a-zA-Z]|[0-9]|[$-_@.&+]|[!*\\(\\),]|(?:%[0-9a-fA-F][0-9a-fA-F]))+\"\n",
    "    return re.findall(regex, line)\n",
    "\n",
    "rdd.filter(lambda x: x.split(\",\")[0] == 'WARN') \\\n",
    "    .filter(lambda x: len(get_urls(x)) > 1 ) \\\n",
    "    .count()\n"
   ]
  },
  {
   "cell_type": "code",
   "execution_count": 8,
   "id": "1b0778ba",
   "metadata": {},
   "outputs": [
    {
     "name": "stderr",
     "output_type": "stream",
     "text": [
      "                                                                                \r"
     ]
    },
    {
     "data": {
      "text/plain": [
       "('13', 79654)"
      ]
     },
     "execution_count": 8,
     "metadata": {},
     "output_type": "execute_result"
    }
   ],
   "source": [
    "# The most active downloader id for Failed connections\n",
    "rdd_failed =  rdd.filter(lambda x: 'failed' in collect_words(x))\n",
    "\n",
    "rdd_active = rdd_failed.map(lambda x: (x.replace(' --',',').split(',')[2].split('-')[1],1))\n",
    "rdd_active.reduceByKey(lambda x,y: x+y).sortBy(lambda x:x[1], ascending=False).first()"
   ]
  },
  {
   "cell_type": "code",
   "execution_count": 9,
   "id": "10b90ec2",
   "metadata": {},
   "outputs": [
    {
     "name": "stderr",
     "output_type": "stream",
     "text": [
      "                                                                                \r"
     ]
    },
    {
     "data": {
      "text/plain": [
       "('ovyx/hammerheadn', 22447)"
      ]
     },
     "execution_count": 9,
     "metadata": {},
     "output_type": "execute_result"
    }
   ],
   "source": [
    "# The most active repository\n",
    "\n",
    "def get_words(line):\n",
    "    return re.compile(' \\w+ ').findall(line.lower())\n",
    "    \n",
    "rdd.filter(lambda x: ' repo ' in get_words(x)) \\\n",
    "    .map(lambda x: (x.lower().split('repo ')[1].split(\" \")[0],1)) \\\n",
    "    .reduceByKey(lambda x,y: x+y) \\\n",
    "    .sortBy(lambda x: x[1], ascending= False) \\\n",
    "    .first()"
   ]
  },
  {
   "cell_type": "code",
   "execution_count": 10,
   "id": "ffb53698",
   "metadata": {},
   "outputs": [
    {
     "name": "stderr",
     "output_type": "stream",
     "text": [
      "                                                                                \r"
     ]
    },
    {
     "data": {
      "text/plain": [
       "[('00', 5088),\n",
       " ('01', 5088),\n",
       " ('02', 98),\n",
       " ('03', 98),\n",
       " ('04', 100),\n",
       " ('05', 100),\n",
       " ('06', 98),\n",
       " ('07', 100),\n",
       " ('08', 100),\n",
       " ('09', 5325),\n",
       " ('10', 9991),\n",
       " ('11', 10567),\n",
       " ('12', 7500),\n",
       " ('13', 5712),\n",
       " ('14', 5144),\n",
       " ('15', 5090),\n",
       " ('16', 5090),\n",
       " ('17', 5090),\n",
       " ('18', 5090),\n",
       " ('19', 5092),\n",
       " ('20', 5772),\n",
       " ('21', 5091),\n",
       " ('22', 5092),\n",
       " ('23', 5088)]"
      ]
     },
     "execution_count": 10,
     "metadata": {},
     "output_type": "execute_result"
    }
   ],
   "source": [
    "# Get the number of Failed HTTP requests per hour.\n",
    "def get_hour(line):\n",
    "    return line.split(\", \")[1].split(\"T\")[1].split(\":\")[0]\n",
    "\n",
    "rdd.filter(lambda x: 'failed' in collect_words(x)) \\\n",
    "            .map(lambda x: (get_hour(x),1)) \\\n",
    "            .reduceByKey(lambda x,y: x+y) \\\n",
    "            .sortByKey() \\\n",
    "            .collect()"
   ]
  },
  {
   "cell_type": "code",
   "execution_count": null,
   "id": "c7b02d1d",
   "metadata": {},
   "outputs": [],
   "source": []
  }
 ],
 "metadata": {
  "kernelspec": {
   "display_name": "Python 3 (ipykernel)",
   "language": "python",
   "name": "python3"
  },
  "language_info": {
   "codemirror_mode": {
    "name": "ipython",
    "version": 3
   },
   "file_extension": ".py",
   "mimetype": "text/x-python",
   "name": "python",
   "nbconvert_exporter": "python",
   "pygments_lexer": "ipython3",
   "version": "3.10.6"
  }
 },
 "nbformat": 4,
 "nbformat_minor": 5
}
