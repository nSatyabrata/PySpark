{
 "cells": [
  {
   "cell_type": "markdown",
   "id": "efb8c06f",
   "metadata": {},
   "source": [
    "Link to dataset: https://www.kaggle.com/datasets/Cornell-University/arxiv"
   ]
  },
  {
   "cell_type": "code",
   "execution_count": 1,
   "id": "961d5334",
   "metadata": {},
   "outputs": [],
   "source": [
    "import findspark\n",
    "findspark.init()"
   ]
  },
  {
   "cell_type": "code",
   "execution_count": 2,
   "id": "a34d8698",
   "metadata": {},
   "outputs": [
    {
     "name": "stdout",
     "output_type": "stream",
     "text": [
      "22/11/04 08:32:04 WARN Utils: Your hostname, pc resolves to a loopback address: 127.0.1.1; using 192.168.170.52 instead (on interface wlp3s0)\n",
      "22/11/04 08:32:04 WARN Utils: Set SPARK_LOCAL_IP if you need to bind to another address\n"
     ]
    },
    {
     "name": "stderr",
     "output_type": "stream",
     "text": [
      "Setting default log level to \"WARN\".\n",
      "To adjust logging level use sc.setLogLevel(newLevel). For SparkR, use setLogLevel(newLevel).\n"
     ]
    },
    {
     "name": "stdout",
     "output_type": "stream",
     "text": [
      "22/11/04 08:32:05 WARN NativeCodeLoader: Unable to load native-hadoop library for your platform... using builtin-java classes where applicable\n"
     ]
    }
   ],
   "source": [
    "# Initializing spark\n",
    "from pyspark import SparkContext, SparkConf\n",
    "\n",
    "conf1 = SparkConf().setAppName(\"Archive_PySpark\").setMaster(\"local[*]\")\n",
    "sc = SparkContext(conf=conf1)"
   ]
  },
  {
   "cell_type": "code",
   "execution_count": 3,
   "id": "c5e5a811",
   "metadata": {},
   "outputs": [
    {
     "name": "stdout",
     "output_type": "stream",
     "text": [
      "<SparkContext master=local[*] appName=Archive_PySpark>\n"
     ]
    }
   ],
   "source": [
    "print(sc)"
   ]
  },
  {
   "cell_type": "code",
   "execution_count": 4,
   "id": "c60572f6",
   "metadata": {},
   "outputs": [],
   "source": [
    "# read and load data to spark\n",
    "import json\n",
    "\n",
    "rdd_json = sc.textFile(\"/home/sbn/Downloads/data/archive/arxiv-metadata-oai-snapshot.json\", 100)\n",
    "\n",
    "rdd = rdd_json.map(lambda x: json.loads(x))\n",
    "\n",
    "# to cache the rdd so that for each action it will not run the transformation. \n",
    "# It will use the cached rdd. \n",
    "\n",
    "#rdd.persist() # didn't use because of low memory"
   ]
  },
  {
   "cell_type": "code",
   "execution_count": 5,
   "id": "30ce7fe1",
   "metadata": {},
   "outputs": [
    {
     "name": "stdout",
     "output_type": "stream",
     "text": [
      "8\n",
      "100\n"
     ]
    }
   ],
   "source": [
    "print(sc.defaultParallelism)\n",
    "print(rdd.getNumPartitions())"
   ]
  },
  {
   "cell_type": "code",
   "execution_count": 6,
   "id": "8af2335a",
   "metadata": {},
   "outputs": [
    {
     "name": "stderr",
     "output_type": "stream",
     "text": [
      "                                                                                \r"
     ]
    },
    {
     "data": {
      "text/plain": [
       "2011231"
      ]
     },
     "execution_count": 6,
     "metadata": {},
     "output_type": "execute_result"
    }
   ],
   "source": [
    "# Count elements\n",
    "rdd.count()"
   ]
  },
  {
   "cell_type": "code",
   "execution_count": 7,
   "id": "146b0050",
   "metadata": {},
   "outputs": [
    {
     "data": {
      "text/plain": [
       "[{'id': '0704.0001',\n",
       "  'submitter': 'Pavel Nadolsky',\n",
       "  'authors': \"C. Bal\\\\'azs, E. L. Berger, P. M. Nadolsky, C.-P. Yuan\",\n",
       "  'title': 'Calculation of prompt diphoton production cross sections at Tevatron and\\n  LHC energies',\n",
       "  'comments': '37 pages, 15 figures; published version',\n",
       "  'journal-ref': 'Phys.Rev.D76:013009,2007',\n",
       "  'doi': '10.1103/PhysRevD.76.013009',\n",
       "  'report-no': 'ANL-HEP-PR-07-12',\n",
       "  'categories': 'hep-ph',\n",
       "  'license': None,\n",
       "  'abstract': '  A fully differential calculation in perturbative quantum chromodynamics is\\npresented for the production of massive photon pairs at hadron colliders. All\\nnext-to-leading order perturbative contributions from quark-antiquark,\\ngluon-(anti)quark, and gluon-gluon subprocesses are included, as well as\\nall-orders resummation of initial-state gluon radiation valid at\\nnext-to-next-to-leading logarithmic accuracy. The region of phase space is\\nspecified in which the calculation is most reliable. Good agreement is\\ndemonstrated with data from the Fermilab Tevatron, and predictions are made for\\nmore detailed tests with CDF and DO data. Predictions are shown for\\ndistributions of diphoton pairs produced at the energy of the Large Hadron\\nCollider (LHC). Distributions of the diphoton pairs from the decay of a Higgs\\nboson are contrasted with those produced from QCD processes at the LHC, showing\\nthat enhanced sensitivity to the signal can be obtained with judicious\\nselection of events.\\n',\n",
       "  'versions': [{'version': 'v1', 'created': 'Mon, 2 Apr 2007 19:18:42 GMT'},\n",
       "   {'version': 'v2', 'created': 'Tue, 24 Jul 2007 20:10:27 GMT'}],\n",
       "  'update_date': '2008-11-26',\n",
       "  'authors_parsed': [['Balázs', 'C.', ''],\n",
       "   ['Berger', 'E. L.', ''],\n",
       "   ['Nadolsky', 'P. M.', ''],\n",
       "   ['Yuan', 'C. -P.', '']]},\n",
       " {'id': '0704.0002',\n",
       "  'submitter': 'Louis Theran',\n",
       "  'authors': 'Ileana Streinu and Louis Theran',\n",
       "  'title': 'Sparsity-certifying Graph Decompositions',\n",
       "  'comments': 'To appear in Graphs and Combinatorics',\n",
       "  'journal-ref': None,\n",
       "  'doi': None,\n",
       "  'report-no': None,\n",
       "  'categories': 'math.CO cs.CG',\n",
       "  'license': 'http://arxiv.org/licenses/nonexclusive-distrib/1.0/',\n",
       "  'abstract': '  We describe a new algorithm, the $(k,\\\\ell)$-pebble game with colors, and use\\nit obtain a characterization of the family of $(k,\\\\ell)$-sparse graphs and\\nalgorithmic solutions to a family of problems concerning tree decompositions of\\ngraphs. Special instances of sparse graphs appear in rigidity theory and have\\nreceived increased attention in recent years. In particular, our colored\\npebbles generalize and strengthen the previous results of Lee and Streinu and\\ngive a new proof of the Tutte-Nash-Williams characterization of arboricity. We\\nalso present a new decomposition that certifies sparsity based on the\\n$(k,\\\\ell)$-pebble game with colors. Our work also exposes connections between\\npebble game algorithms and previous sparse graph algorithms by Gabow, Gabow and\\nWestermann and Hendrickson.\\n',\n",
       "  'versions': [{'version': 'v1', 'created': 'Sat, 31 Mar 2007 02:26:18 GMT'},\n",
       "   {'version': 'v2', 'created': 'Sat, 13 Dec 2008 17:26:00 GMT'}],\n",
       "  'update_date': '2008-12-13',\n",
       "  'authors_parsed': [['Streinu', 'Ileana', ''], ['Theran', 'Louis', '']]}]"
      ]
     },
     "execution_count": 7,
     "metadata": {},
     "output_type": "execute_result"
    }
   ],
   "source": [
    "# Get the first two records\n",
    "rdd.take(2)"
   ]
  },
  {
   "cell_type": "code",
   "execution_count": 8,
   "id": "602bded4",
   "metadata": {},
   "outputs": [
    {
     "name": "stderr",
     "output_type": "stream",
     "text": [
      "                                                                                \r"
     ]
    },
    {
     "data": {
      "text/plain": [
       "['authors',\n",
       " 'comments',\n",
       " 'title',\n",
       " 'id',\n",
       " 'journal-ref',\n",
       " 'versions',\n",
       " 'submitter',\n",
       " 'categories',\n",
       " 'update_date',\n",
       " 'authors_parsed',\n",
       " 'report-no',\n",
       " 'license',\n",
       " 'abstract',\n",
       " 'doi']"
      ]
     },
     "execution_count": 8,
     "metadata": {},
     "output_type": "execute_result"
    }
   ],
   "source": [
    "# get all attributes\n",
    "rdd.flatMap(lambda x:x.keys()).distinct().collect()"
   ]
  },
  {
   "cell_type": "code",
   "execution_count": 9,
   "id": "c00f8530",
   "metadata": {},
   "outputs": [
    {
     "name": "stderr",
     "output_type": "stream",
     "text": [
      "                                                                                \r"
     ]
    },
    {
     "data": {
      "text/plain": [
       "[None,\n",
       " 'http://creativecommons.org/licenses/publicdomain/',\n",
       " 'http://creativecommons.org/licenses/by-nc-nd/4.0/',\n",
       " 'http://creativecommons.org/licenses/by-nc-sa/4.0/',\n",
       " 'http://creativecommons.org/licenses/by-nc-sa/3.0/',\n",
       " 'http://creativecommons.org/licenses/by/3.0/',\n",
       " 'http://creativecommons.org/licenses/by/4.0/',\n",
       " 'http://creativecommons.org/publicdomain/zero/1.0/',\n",
       " 'http://arxiv.org/licenses/nonexclusive-distrib/1.0/',\n",
       " 'http://creativecommons.org/licenses/by-sa/4.0/']"
      ]
     },
     "execution_count": 9,
     "metadata": {},
     "output_type": "execute_result"
    }
   ],
   "source": [
    "# Get the names ofthe licences\n",
    "rdd.map(lambda x: x[\"license\"]).distinct().collect()"
   ]
  },
  {
   "cell_type": "code",
   "execution_count": 10,
   "id": "857e245b",
   "metadata": {},
   "outputs": [
    {
     "name": "stderr",
     "output_type": "stream",
     "text": [
      "[Stage 7:======================================================> (97 + 3) / 100]\r"
     ]
    },
    {
     "name": "stdout",
     "output_type": "stream",
     "text": [
      "Shortest title :  !-Graphs with Trivial Overlap are Context-Free\n",
      "Longest title :  Weyl formula for the negative dissipative eigenvalues of Maxwell's\n",
      "  equations\n"
     ]
    },
    {
     "name": "stderr",
     "output_type": "stream",
     "text": [
      "\r",
      "[Stage 7:======================================================> (98 + 2) / 100]\r",
      "\r",
      "                                                                                \r"
     ]
    }
   ],
   "source": [
    "# Get the shortest and longest titles\n",
    "shortest_title_rdd = rdd.map(lambda x: x[\"title\"]).reduce(lambda x,y: x if x < y else y)\n",
    "longest_title_rdd = rdd.map(lambda x: x[\"title\"]).reduce(lambda x,y: x if x > y else y)\n",
    "\n",
    "print(\"Shortest title : \", shortest_title_rdd)\n",
    "print(\"Longest title : \", longest_title_rdd)"
   ]
  },
  {
   "cell_type": "code",
   "execution_count": 11,
   "id": "5b97e8fc",
   "metadata": {},
   "outputs": [
    {
     "name": "stderr",
     "output_type": "stream",
     "text": [
      "                                                                                \r"
     ]
    },
    {
     "data": {
      "text/plain": [
       "192721"
      ]
     },
     "execution_count": 11,
     "metadata": {},
     "output_type": "execute_result"
    }
   ],
   "source": [
    "# Find abbreviations with 5 or more letters in the abstract\n",
    "import re\n",
    "\n",
    "def get_abbreviations(line):\n",
    "    result = re.search(r\"\\(([A-Za-z][^_ /\\\\<>]{5,})\\)\", line)\n",
    "    if result:\n",
    "        return result.group(1)\n",
    "\n",
    "rdd.filter(lambda x: get_abbreviations(x['abstract'])).count()"
   ]
  },
  {
   "cell_type": "code",
   "execution_count": 14,
   "id": "56d7c8b2",
   "metadata": {},
   "outputs": [
    {
     "name": "stderr",
     "output_type": "stream",
     "text": [
      "                                                                                \r"
     ]
    },
    {
     "data": {
      "text/plain": [
       "[(1, 134247),\n",
       " (2, 116948),\n",
       " (3, 126458),\n",
       " (4, 117126),\n",
       " (5, 296587),\n",
       " (6, 191746),\n",
       " (7, 122649),\n",
       " (8, 138469),\n",
       " (9, 138978),\n",
       " (10, 197755),\n",
       " (11, 297963),\n",
       " (12, 132305)]"
      ]
     },
     "execution_count": 14,
     "metadata": {},
     "output_type": "execute_result"
    }
   ],
   "source": [
    "# Get the number of archives records per month\n",
    "import datetime\n",
    "\n",
    "def extract_date(date_in):\n",
    "    d = datetime.datetime.strptime(date_in, \"%Y-%m-%d\")\n",
    "    return d.month\n",
    "\n",
    "\n",
    "rdd.map(lambda x: (extract_date(x[\"update_date\"]),1)).reduceByKey(lambda x,y: x+y).collect()"
   ]
  },
  {
   "cell_type": "code",
   "execution_count": 20,
   "id": "20a62487",
   "metadata": {},
   "outputs": [
    {
     "name": "stderr",
     "output_type": "stream",
     "text": [
      "[Stage 18:=====================================================> (98 + 2) / 100]\r"
     ]
    },
    {
     "name": "stdout",
     "output_type": "stream",
     "text": [
      "1184075\n",
      "21139516\n",
      "Average of pages : 17.85319004286046\n"
     ]
    },
    {
     "name": "stderr",
     "output_type": "stream",
     "text": [
      "\r",
      "                                                                                \r"
     ]
    }
   ],
   "source": [
    "# Get the average number of pages\n",
    "\n",
    "def get_page_number(line):\n",
    "    search = re.findall('\\d+ pages', line)\n",
    "    if search:\n",
    "        return int(search[0].split(\" \")[0])\n",
    "    else:\n",
    "        return 0\n",
    "\n",
    "rdd_average = rdd.map(lambda x: get_page_number(x[\"comments\"] if x[\"comments\"] != None else \"None\"))\n",
    "\n",
    "rdd_average = rdd_average.filter(lambda x: x!=0)\n",
    "\n",
    "count = rdd_average.count()\n",
    "page_num_sum = rdd_average.reduce(lambda x,y: x+y)\n",
    "\n",
    "print(count)\n",
    "print(page_num_sum)\n",
    "print(f\"Average of pages : {page_num_sum/count}\")"
   ]
  },
  {
   "cell_type": "code",
   "execution_count": null,
   "id": "44d168be",
   "metadata": {},
   "outputs": [],
   "source": []
  }
 ],
 "metadata": {
  "kernelspec": {
   "display_name": "Python 3 (ipykernel)",
   "language": "python",
   "name": "python3"
  },
  "language_info": {
   "codemirror_mode": {
    "name": "ipython",
    "version": 3
   },
   "file_extension": ".py",
   "mimetype": "text/x-python",
   "name": "python",
   "nbconvert_exporter": "python",
   "pygments_lexer": "ipython3",
   "version": "3.10.6"
  }
 },
 "nbformat": 4,
 "nbformat_minor": 5
}
